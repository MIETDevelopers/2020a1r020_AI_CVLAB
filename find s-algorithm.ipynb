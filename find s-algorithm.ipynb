{
 "cells": [
  {
   "cell_type": "code",
   "execution_count": 2,
   "id": "89e1d2d9",
   "metadata": {},
   "outputs": [
    {
     "name": "stdout",
     "output_type": "stream",
     "text": [
      "\n",
      " the given data set \n",
      "\n",
      "['Male', 'High', 'High', 'Positive']\n",
      "['Female', 'Normal', 'High', 'Positive']\n",
      "['Male', 'Low', 'Low', 'Negative']\n",
      "['Female', 'High', 'Normal', 'Positive']\n",
      "['Male', 'Normal', 'Low', 'Negative']\n",
      "\n",
      " the initial value of hypothesis:\n",
      "['0', '0', '0']\n",
      "\n",
      " finding a maximally sprcific hypothesis\n",
      "\n",
      "for training instance NO:0 the hypothesis is ['Male', 'High', 'High']\n",
      "for training instance NO:1 the hypothesis is ['?', '?', 'High']\n",
      "for training instance NO:2 the hypothesis is ['?', '?', 'High']\n",
      "for training instance NO:3 the hypothesis is ['?', '?', '?']\n",
      "for training instance NO:4 the hypothesis is ['?', '?', '?']\n",
      "\n",
      " the maximally sprcific hypothesis for a given training example:\n",
      "\n",
      "['?', '?', '?']\n"
     ]
    }
   ],
   "source": [
    "import csv\n",
    "num_attributes = 3\n",
    "a=[]\n",
    "print(\"\\n the given data set \\n\")\n",
    "with open(\"2020A1R020.csv\",'r')as csvfile:\n",
    "    reader=csv.reader(csvfile)\n",
    "    for row in reader:\n",
    "        a.append(row)\n",
    "        print(row)\n",
    "print(\"\\n the initial value of hypothesis:\")\n",
    "hypothesis=['0']*num_attributes\n",
    "print(hypothesis)\n",
    "\n",
    "for j in range(0,num_attributes):\n",
    "    hypothesis[j]=a[0][j];\n",
    "print(\"\\n finding a maximally sprcific hypothesis\\n\")\n",
    "\n",
    "for i in range(0,len(a)):\n",
    "    if a[i][num_attributes]=='Positive':\n",
    "        for j in range(0,num_attributes):\n",
    "            if a[i][j]!=hypothesis[j]:\n",
    "                hypothesis[j]='?'\n",
    "            else:\n",
    "                hypothesis[j]=a[i][j]\n",
    "    print(\"for training instance NO:{0} the hypothesis is\".format(i),hypothesis)\n",
    "print(\"\\n the maximally sprcific hypothesis for a given training example:\\n\")\n",
    "print(hypothesis)"
   ]
  },
  {
   "cell_type": "code",
   "execution_count": null,
   "id": "5989ce19",
   "metadata": {},
   "outputs": [],
   "source": []
  },
  {
   "cell_type": "code",
   "execution_count": null,
   "id": "5bf8f2a7",
   "metadata": {},
   "outputs": [],
   "source": []
  },
  {
   "cell_type": "code",
   "execution_count": null,
   "id": "8165c661",
   "metadata": {},
   "outputs": [],
   "source": []
  }
 ],
 "metadata": {
  "kernelspec": {
   "display_name": "Python 3 (ipykernel)",
   "language": "python",
   "name": "python3"
  },
  "language_info": {
   "codemirror_mode": {
    "name": "ipython",
    "version": 3
   },
   "file_extension": ".py",
   "mimetype": "text/x-python",
   "name": "python",
   "nbconvert_exporter": "python",
   "pygments_lexer": "ipython3",
   "version": "3.9.12"
  }
 },
 "nbformat": 4,
 "nbformat_minor": 5
}
